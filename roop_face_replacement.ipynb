{
  "nbformat": 4,
  "nbformat_minor": 0,
  "metadata": {
    "colab": {
      "provenance": [],
      "gpuType": "T4",
      "include_colab_link": true
    },
    "kernelspec": {
      "name": "python3",
      "display_name": "Python 3"
    },
    "language_info": {
      "name": "python"
    },
    "accelerator": "GPU"
  },
  "cells": [
    {
      "cell_type": "markdown",
      "metadata": {
        "id": "view-in-github",
        "colab_type": "text"
      },
      "source": [
        "<a href=\"https://colab.research.google.com/github/burtVL/7-javascript-1/blob/master/roop_face_replacement.ipynb\" target=\"_parent\"><img src=\"https://colab.research.google.com/assets/colab-badge.svg\" alt=\"Open In Colab\"/></a>"
      ]
    },
    {
      "cell_type": "code",
      "source": [
        "#@title 1) Проверяем видеокарту/Check graphics card\n",
        "!nvidia-smi"
      ],
      "metadata": {
        "id": "V6E56CNbFLKU",
        "cellView": "form"
      },
      "execution_count": null,
      "outputs": []
    },
    {
      "cell_type": "code",
      "source": [
        "#@title 2) Подготовка\n",
        "!git clone https://github.com/Obnovlator3000/roop\n",
        "%cd /content/roop\n",
        "!pip install onnxruntime-gpu && pip install -r requirements.txt\n",
        "!wget https://huggingface.co/thebiglaskowski/inswapper_128.onnx/resolve/main/inswapper_128.onnx"
      ],
      "metadata": {
        "id": "LMNnjkEcFjZz",
        "cellView": "form"
      },
      "execution_count": null,
      "outputs": []
    },
    {
      "cell_type": "code",
      "source": [
        "#@title 3) Загружаем фото с лицом/Upload photo with face\n",
        "%cd /content/roop\n",
        "!mkdir files\n",
        "%cd /content/roop/files\n",
        "from google.colab import files\n",
        "uploaded = files.upload()\n",
        "for i in uploaded.keys():\n",
        "  face_raw = \"/content/roop/files/\" + i\n",
        "  break\n",
        "!mv \"$face_raw\" /content/roop/files/face.jpg"
      ],
      "metadata": {
        "id": "akQ00FTLG3fv",
        "cellView": "form"
      },
      "execution_count": null,
      "outputs": []
    },
    {
      "cell_type": "code",
      "source": [
        "#@title 4) Загружаем видео/Upload video\n",
        "%cd /content/roop/files\n",
        "from google.colab import files\n",
        "uploaded = files.upload()\n",
        "for i in uploaded.keys():\n",
        "  video_raw = \"/content/roop/files/\" + i\n",
        "  break\n",
        "!mv \"$video_raw\" /content/roop/files/video.mp4"
      ],
      "metadata": {
        "id": "9OoFghvvX_Tn",
        "cellView": "form"
      },
      "execution_count": null,
      "outputs": []
    },
    {
      "cell_type": "code",
      "source": [
        "#@title 5) Заменяем лицо/Face swap\n",
        "#@markdown Заменять все лица:\n",
        "swap_all_faces  = False #@param{type:\"boolean\"}\n",
        "if swap_all_faces:\n",
        "  all_faces = \"--all-faces\"\n",
        "else:\n",
        "  all_faces = \"\"\n",
        "%cd /content/roop/\n",
        "!touch /content/output.mp4\n",
        "c = f\"python run.py -f /content/roop/files/face.jpg -t /content/roop/files/video.mp4 -o /content/output.mp4 --gpu-vendor nvidia --gpu-cores 3 {all_faces}\"\n",
        "get_ipython().system(c)\n",
        "from google.colab import files\n",
        "files.download('/content/output.mp4')"
      ],
      "metadata": {
        "id": "ptZRz7c2-zBF",
        "cellView": "form"
      },
      "execution_count": null,
      "outputs": []
    }
  ]
}